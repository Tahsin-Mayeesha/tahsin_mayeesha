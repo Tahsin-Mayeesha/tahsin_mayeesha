{
  "nbformat": 4,
  "nbformat_minor": 0,
  "metadata": {
    "colab": {
      "name": "fake news blog multilingual.ipynb",
      "provenance": [],
      "collapsed_sections": []
    },
    "kernelspec": {
      "name": "python3",
      "display_name": "Python 3"
    },
    "language_info": {
      "name": "python"
    },
    "accelerator": "GPU"
  },
  "cells": [
    {
      "cell_type": "markdown",
      "metadata": {
        "id": "F5GyvRbdNjp5"
      },
      "source": [
        "# \"Title\"\n",
        "> \"Awesome summary\"\n",
        "\n",
        "- toc: false\n",
        "- branch: master\n",
        "- badges: true\n",
        "- comments: true\n",
        "- categories: [fastpages, jupyter]\n",
        "- image: images/some_folder/your_image.png\n",
        "- hide: false\n",
        "- search_exclude: true\n",
        "- metadata_key1: metadata_value1\n",
        "- metadata_key2: metadata_value2"
      ]
    },
    {
      "cell_type": "code",
      "metadata": {
        "id": "bLXleXuvNmOV"
      },
      "source": [
        "!pip install -Uqq transformers datasets tqdm\n",
        "!pip install -Uqq ohmeow-blurr\n",
        "!pip install -Uqq wandb"
      ],
      "execution_count": null,
      "outputs": []
    },
    {
      "cell_type": "markdown",
      "metadata": {
        "id": "SaUFAGkoOjw9"
      },
      "source": [
        "# Imports"
      ]
    },
    {
      "cell_type": "code",
      "metadata": {
        "id": "JEtV-2-RNpO5"
      },
      "source": [
        "import pandas as pd\n",
        "import numpy as np\n",
        "import matplotlib.pyplot as plt\n",
        "%matplotlib inline"
      ],
      "execution_count": null,
      "outputs": []
    },
    {
      "cell_type": "code",
      "metadata": {
        "id": "pQJ_1ZHyvhne"
      },
      "source": [
        "import wandb\n",
        "\n",
        "from transformers import *\n",
        "from fastai.text.all import *\n",
        "\n",
        "from blurr.data.all import *\n",
        "from blurr.modeling.all import *"
      ],
      "execution_count": null,
      "outputs": []
    },
    {
      "cell_type": "code",
      "metadata": {
        "colab": {
          "base_uri": "https://localhost:8080/",
          "height": 68
        },
        "id": "4twKIiYB2yUu",
        "outputId": "f5e50e22-6e0c-43b1-9b04-74dd0f4db20a"
      },
      "source": [
        "wandb.login()"
      ],
      "execution_count": null,
      "outputs": [
        {
          "output_type": "display_data",
          "data": {
            "application/javascript": [
              "\n",
              "        window._wandbApiKey = new Promise((resolve, reject) => {\n",
              "            function loadScript(url) {\n",
              "            return new Promise(function(resolve, reject) {\n",
              "                let newScript = document.createElement(\"script\");\n",
              "                newScript.onerror = reject;\n",
              "                newScript.onload = resolve;\n",
              "                document.body.appendChild(newScript);\n",
              "                newScript.src = url;\n",
              "            });\n",
              "            }\n",
              "            loadScript(\"https://cdn.jsdelivr.net/npm/postmate/build/postmate.min.js\").then(() => {\n",
              "            const iframe = document.createElement('iframe')\n",
              "            iframe.style.cssText = \"width:0;height:0;border:none\"\n",
              "            document.body.appendChild(iframe)\n",
              "            const handshake = new Postmate({\n",
              "                container: iframe,\n",
              "                url: 'https://wandb.ai/authorize'\n",
              "            });\n",
              "            const timeout = setTimeout(() => reject(\"Couldn't auto authenticate\"), 5000)\n",
              "            handshake.then(function(child) {\n",
              "                child.on('authorize', data => {\n",
              "                    clearTimeout(timeout)\n",
              "                    resolve(data)\n",
              "                });\n",
              "            });\n",
              "            })\n",
              "        });\n",
              "    "
            ],
            "text/plain": [
              "<IPython.core.display.Javascript object>"
            ]
          },
          "metadata": {
            "tags": []
          }
        },
        {
          "output_type": "stream",
          "text": [
            "\u001b[34m\u001b[1mwandb\u001b[0m: Appending key for api.wandb.ai to your netrc file: /root/.netrc\n"
          ],
          "name": "stderr"
        },
        {
          "output_type": "execute_result",
          "data": {
            "text/plain": [
              "True"
            ]
          },
          "metadata": {
            "tags": []
          },
          "execution_count": 24
        }
      ]
    },
    {
      "cell_type": "code",
      "metadata": {
        "id": "-ZZrtFhg2z1X"
      },
      "source": [
        "wandb_init_kwargs = {\n",
        "    'reinit': True, \n",
        "    'project': \"fake-news-blurr\", \n",
        "    'entity': \"tasmiah-tahsin\",\n",
        "    'notes': 'Finetuning banfakenews with multilingual bert via Blurr', \n",
        "    'tags': ['mbert', 'fake-news-classification', 'blurr']\n",
        "  }"
      ],
      "execution_count": null,
      "outputs": []
    },
    {
      "cell_type": "markdown",
      "metadata": {
        "id": "HVEvLd64veua"
      },
      "source": [
        "# Load dataset"
      ]
    },
    {
      "cell_type": "code",
      "metadata": {
        "colab": {
          "base_uri": "https://localhost:8080/"
        },
        "id": "4q3yba0FOm4D",
        "outputId": "0c9e04e7-60db-4884-c705-72fd487da2ba"
      },
      "source": [
        "fake = pd.read_csv(\"/content/Fake-1K.csv\")\n",
        "authentic = pd.read_csv(\"/content/Authentic-48K.csv\",engine='python',error_bad_lines=False,warn_bad_lines=True)\n",
        "df = pd.concat([authentic[['headline','content','label']],fake[['headline','content','label']]])\n",
        "df.reset_index(drop=True,inplace=True)"
      ],
      "execution_count": null,
      "outputs": [
        {
          "output_type": "stream",
          "text": [
            "Skipping line 836: unexpected end of data\n"
          ],
          "name": "stderr"
        }
      ]
    },
    {
      "cell_type": "code",
      "metadata": {
        "id": "mQsvSC-TQlg-"
      },
      "source": [
        "df['text'] = df['headline'] + df['content']"
      ],
      "execution_count": null,
      "outputs": []
    },
    {
      "cell_type": "code",
      "metadata": {
        "id": "XoeDzUbWQn6V"
      },
      "source": [
        "df = df.drop(['headline','content'],axis=1)"
      ],
      "execution_count": null,
      "outputs": []
    },
    {
      "cell_type": "code",
      "metadata": {
        "colab": {
          "base_uri": "https://localhost:8080/",
          "height": 375
        },
        "id": "vNvEQVnAuYCX",
        "outputId": "b8a79d00-e1b3-4cec-bae4-468ff82fdb39"
      },
      "source": [
        "df.head()"
      ],
      "execution_count": null,
      "outputs": [
        {
          "output_type": "execute_result",
          "data": {
            "text/html": [
              "<div>\n",
              "<style scoped>\n",
              "    .dataframe tbody tr th:only-of-type {\n",
              "        vertical-align: middle;\n",
              "    }\n",
              "\n",
              "    .dataframe tbody tr th {\n",
              "        vertical-align: top;\n",
              "    }\n",
              "\n",
              "    .dataframe thead th {\n",
              "        text-align: right;\n",
              "    }\n",
              "</style>\n",
              "<table border=\"1\" class=\"dataframe\">\n",
              "  <thead>\n",
              "    <tr style=\"text-align: right;\">\n",
              "      <th></th>\n",
              "      <th>label</th>\n",
              "      <th>text</th>\n",
              "    </tr>\n",
              "  </thead>\n",
              "  <tbody>\n",
              "    <tr>\n",
              "      <th>0</th>\n",
              "      <td>1</td>\n",
              "      <td>হট্টগোল করায় বাকৃবিতে দুইজন বরখাস্ত, ৬ জনকে শোকজগত ১৭ সেপ্টেম্বর বাংলাদেশ কৃষি বিশ্ববিদ্যালয়ে (বাকৃবি) উপাচার্যের কার্যালয়ে হট্টগোলের ঘটনায় দুইজনকে সাময়িক বরখাস্ত ও ছয় জনকে শোকজ করেছে বিশ্ববিদ্যালয় প্রশাসন। বুধবার বিশ্ববিদ্যালয় বাকৃবি রেজিস্ট্রার সাইফুল ইসলাম স্বাক্ষরিত এক নোটিশে আগামী ৭ দিনের মধ্যে উপযুক্ত উত্তর দেয়ার নির্দেশ দেয়া হয়েছে। এদিকে এ ঘটনায় আন্দোলনের সঙ্গে একাত্বতা প্রকাশ না করায় হামলার শিকার হয়ে কারিগরি কর্মচারী পরিষদের সভাপতি ও সাধারণ সম্পাদক হাসপাতালে ভর্তি হয়েছেন। সাময়িক বরখাস্তরা হলেন- শিক্ষা বিষয়ক শাখার কর্মচারী ও ৩য় শ্রেণির সাধারণ সম্পাদক মো. মোশারফ হোসেন ও কর্মকর্তা পরি...</td>\n",
              "    </tr>\n",
              "    <tr>\n",
              "      <th>1</th>\n",
              "      <td>1</td>\n",
              "      <td>মালয়েশিয়ায় কর্মী পাঠানোর ব্যবস্থা নেয়ার সুপারিশবাংলাদেশের বৃহৎ শ্রমবাজার মালয়েশিয়ায় আবার শ্রমিক পাঠানোর প্রয়োজনীয় সব ধরনের ব্যবস্থা নেয়ার সুপারিশ করেছে সংসদীয় কমিটি। ২৫ সেপ্টেম্বর প্রবাসী কল্যাণ ও বৈদেশিক কর্মসংস্থান মন্ত্রণালয়ের মন্ত্রীর নেতৃত্বে মালয়েশিয়ায় জয়েন্ট ওয়ার্কিং গ্রুপের একটি সভা হবে। সভায় শ্রমবাজারে কর্মী পাঠানোর পরিবর্তিত প্রক্রিয়া চূড়ান্তকরণ এবং মালয়েশিয়ার মানবসম্পদ মন্ত্রণালয়সহ অন্যান্য সংশ্লিষ্ট মন্ত্রণালয়ের সঙ্গে নিবিড় যোগাযোগ অব্যাহত রাখার সুপারিশ করবে কমিটি। বুধবার সংসদ ভবনে অনুষ্ঠিত প্রবাসী কল্যাণ ও বৈদেশিক কর্মসংস্থান মন্ত্রণালয় সম্পর্কিত স্থায়ী কমিটির ২৫তম বৈঠকে এ সুপ...</td>\n",
              "    </tr>\n",
              "    <tr>\n",
              "      <th>2</th>\n",
              "      <td>1</td>\n",
              "      <td>প্রেমের প্রস্তাবে রাজি না হওয়ায় স্কুলছাত্রীকে কুপিয়ে জখমনরসিংদীর মনোহরদীতে প্রেমের প্রস্তাবে রাজি না হওয়ায় তানজিমা (১৪) নামে এক স্কুলছাত্রীকে কুপিয়ে জখম করেছে মফিজুল ইসলাম (১৮) নামে এক যুবক। বুধবার সকালে উপজেলার সরাইকান্দী গ্রামে এ ঘটনা ঘটে। গুরুতর আহত অবস্থায় ওই স্কুলছাত্রীকে ঢাকা মেডিকেল কলেজ হাসপাতালে ভর্তি করা হয়েছে। আহত তানজিমা মনোহরদী উপজেলার নলুয়া গ্রামের তারা মিয়ার মেয়ে এবং অর্জুনচর উচ্চ বিদ্যালয়ের নবম শ্রেণির ছাত্রী। স্কুলছাত্রীর স্বজনদের অভিযোগ, দীর্ঘদিন ধরে তানজিমাকে প্রেমের প্রস্তাব দিয়ে আসছিল সরাইকান্দী গ্রামের আব্দুর রশিদ মিয়ার ছেলে মফিজুল ইসলাম। তবে তার প্রস্তাবে রাজি না হওয়...</td>\n",
              "    </tr>\n",
              "    <tr>\n",
              "      <th>3</th>\n",
              "      <td>1</td>\n",
              "      <td>মেডিয়েশনই মামলাজট নিরসনের পথ : বিচারপতি আহমেদ সোহেলসুপ্রিম কোর্টের হাইকোর্ট বিভাগের বিচারপতি আহমেদ সোহেল বলেছেন, মেডিয়েশন এবং আরবিট্রেশনই মামলাজট নিরসনের একমাত্র পথ। বুধবার (১৯ সেপ্টেম্বর) রাজধানির এক হোটেলে ‘ডেফিনেশন অব মেডিয়েশন’ বইয়ের মোড়ক উন্মোচন অনুষ্ঠানে তিনি এ কথা বলেন। বাংলাদেশ ইন্টারন্যাশনাল মেডিয়েশন সোসাইটির (বিমস) প্রতিষ্ঠাতা অ্যাডভোকেট সমরেন্দ্র নাথ গোস্বামী ও ভারতের সুপ্রিম কোর্টের আইনজীবী অ্যাক্রিডিটেড মেডিয়েটর ইরাম মজিদ যৌথভাবে বইটি লিখেছেন। এর আগে বিমসের দুই দিনব্যাপী আন্তর্জাতিকমানের বিশেষ প্রশিক্ষণ কর্মশালারও উদ্ধোধন করেন বিচারপতি আহমেদ সোহেল। প্রধান অতিথির বক্তেব্য তিনি ব...</td>\n",
              "    </tr>\n",
              "    <tr>\n",
              "      <th>4</th>\n",
              "      <td>1</td>\n",
              "      <td>টকশোতে বক্তব্য দিতে গিয়ে জাপা নেতার মৃত্যুমাদারীপুর সদরের উপজেলার লেকেরপাড়ে একটি বেসরকারি টেলিভিশন চ্যানেল নিউজ টুয়েন্টিফোরের নির্বাচন-সংক্রান্ত টকশো চলাকালে বক্তব্য দিতে গিয়ে অসুস্থ হয়ে মারা গেছেন জাতীয় পার্টির (জাপা) মাদারীপুর জেলা শাখার সভাপতি জাকারিয়া অপু। মঙ্গলবার তাকে প্রথমে মাদারীপুরের স্থানীয় নিরাময় হাসপাতাল ও পরে ফরিদপুর মেডিকেল কলেজ হাসপাতালে নেয়া হয়। সেখান থেকে ঢাকায় নিয়ে যাওয়ার পথে মারা যান তিনি। জাকারিয়া অপুর পরিবার জানিয়েছে, একটি টেলিভিশনের অনুষ্ঠান চলাকালে হৃদরোগে আক্রান্ত হন জাকারিয়া। পরে হাসপাতালে নেয়ার পথে মারা যান তিনি। মাদারীপুর জেলা জাতীয় পার্টির (জাপা) সহসভাপতি জহিরুল...</td>\n",
              "    </tr>\n",
              "  </tbody>\n",
              "</table>\n",
              "</div>"
            ],
            "text/plain": [
              "   label                                                                                                                                                                                                                                                                                                                                                                                                                                                                                                                                                                                                                     text\n",
              "0      1  হট্টগোল করায় বাকৃবিতে দুইজন বরখাস্ত, ৬ জনকে শোকজগত ১৭ সেপ্টেম্বর বাংলাদেশ কৃষি বিশ্ববিদ্যালয়ে (বাকৃবি) উপাচার্যের কার্যালয়ে হট্টগোলের ঘটনায় দুইজনকে সাময়িক বরখাস্ত ও ছয় জনকে শোকজ করেছে বিশ্ববিদ্যালয় প্রশাসন। বুধবার বিশ্ববিদ্যালয় বাকৃবি রেজিস্ট্রার সাইফুল ইসলাম স্বাক্ষরিত এক নোটিশে আগামী ৭ দিনের মধ্যে উপযুক্ত উত্তর দেয়ার নির্দেশ দেয়া হয়েছে। এদিকে এ ঘটনায় আন্দোলনের সঙ্গে একাত্বতা প্রকাশ না করায় হামলার শিকার হয়ে কারিগরি কর্মচারী পরিষদের সভাপতি ও সাধারণ সম্পাদক হাসপাতালে ভর্তি হয়েছেন। সাময়িক বরখাস্তরা হলেন- শিক্ষা বিষয়ক শাখার কর্মচারী ও ৩য় শ্রেণির সাধারণ সম্পাদক মো. মোশারফ হোসেন ও কর্মকর্তা পরি...\n",
              "1      1  মালয়েশিয়ায় কর্মী পাঠানোর ব্যবস্থা নেয়ার সুপারিশবাংলাদেশের বৃহৎ শ্রমবাজার মালয়েশিয়ায় আবার শ্রমিক পাঠানোর প্রয়োজনীয় সব ধরনের ব্যবস্থা নেয়ার সুপারিশ করেছে সংসদীয় কমিটি। ২৫ সেপ্টেম্বর প্রবাসী কল্যাণ ও বৈদেশিক কর্মসংস্থান মন্ত্রণালয়ের মন্ত্রীর নেতৃত্বে মালয়েশিয়ায় জয়েন্ট ওয়ার্কিং গ্রুপের একটি সভা হবে। সভায় শ্রমবাজারে কর্মী পাঠানোর পরিবর্তিত প্রক্রিয়া চূড়ান্তকরণ এবং মালয়েশিয়ার মানবসম্পদ মন্ত্রণালয়সহ অন্যান্য সংশ্লিষ্ট মন্ত্রণালয়ের সঙ্গে নিবিড় যোগাযোগ অব্যাহত রাখার সুপারিশ করবে কমিটি। বুধবার সংসদ ভবনে অনুষ্ঠিত প্রবাসী কল্যাণ ও বৈদেশিক কর্মসংস্থান মন্ত্রণালয় সম্পর্কিত স্থায়ী কমিটির ২৫তম বৈঠকে এ সুপ...\n",
              "2      1  প্রেমের প্রস্তাবে রাজি না হওয়ায় স্কুলছাত্রীকে কুপিয়ে জখমনরসিংদীর মনোহরদীতে প্রেমের প্রস্তাবে রাজি না হওয়ায় তানজিমা (১৪) নামে এক স্কুলছাত্রীকে কুপিয়ে জখম করেছে মফিজুল ইসলাম (১৮) নামে এক যুবক। বুধবার সকালে উপজেলার সরাইকান্দী গ্রামে এ ঘটনা ঘটে। গুরুতর আহত অবস্থায় ওই স্কুলছাত্রীকে ঢাকা মেডিকেল কলেজ হাসপাতালে ভর্তি করা হয়েছে। আহত তানজিমা মনোহরদী উপজেলার নলুয়া গ্রামের তারা মিয়ার মেয়ে এবং অর্জুনচর উচ্চ বিদ্যালয়ের নবম শ্রেণির ছাত্রী। স্কুলছাত্রীর স্বজনদের অভিযোগ, দীর্ঘদিন ধরে তানজিমাকে প্রেমের প্রস্তাব দিয়ে আসছিল সরাইকান্দী গ্রামের আব্দুর রশিদ মিয়ার ছেলে মফিজুল ইসলাম। তবে তার প্রস্তাবে রাজি না হওয়...\n",
              "3      1  মেডিয়েশনই মামলাজট নিরসনের পথ : বিচারপতি আহমেদ সোহেলসুপ্রিম কোর্টের হাইকোর্ট বিভাগের বিচারপতি আহমেদ সোহেল বলেছেন, মেডিয়েশন এবং আরবিট্রেশনই মামলাজট নিরসনের একমাত্র পথ। বুধবার (১৯ সেপ্টেম্বর) রাজধানির এক হোটেলে ‘ডেফিনেশন অব মেডিয়েশন’ বইয়ের মোড়ক উন্মোচন অনুষ্ঠানে তিনি এ কথা বলেন। বাংলাদেশ ইন্টারন্যাশনাল মেডিয়েশন সোসাইটির (বিমস) প্রতিষ্ঠাতা অ্যাডভোকেট সমরেন্দ্র নাথ গোস্বামী ও ভারতের সুপ্রিম কোর্টের আইনজীবী অ্যাক্রিডিটেড মেডিয়েটর ইরাম মজিদ যৌথভাবে বইটি লিখেছেন। এর আগে বিমসের দুই দিনব্যাপী আন্তর্জাতিকমানের বিশেষ প্রশিক্ষণ কর্মশালারও উদ্ধোধন করেন বিচারপতি আহমেদ সোহেল। প্রধান অতিথির বক্তেব্য তিনি ব...\n",
              "4      1  টকশোতে বক্তব্য দিতে গিয়ে জাপা নেতার মৃত্যুমাদারীপুর সদরের উপজেলার লেকেরপাড়ে একটি বেসরকারি টেলিভিশন চ্যানেল নিউজ টুয়েন্টিফোরের নির্বাচন-সংক্রান্ত টকশো চলাকালে বক্তব্য দিতে গিয়ে অসুস্থ হয়ে মারা গেছেন জাতীয় পার্টির (জাপা) মাদারীপুর জেলা শাখার সভাপতি জাকারিয়া অপু। মঙ্গলবার তাকে প্রথমে মাদারীপুরের স্থানীয় নিরাময় হাসপাতাল ও পরে ফরিদপুর মেডিকেল কলেজ হাসপাতালে নেয়া হয়। সেখান থেকে ঢাকায় নিয়ে যাওয়ার পথে মারা যান তিনি। জাকারিয়া অপুর পরিবার জানিয়েছে, একটি টেলিভিশনের অনুষ্ঠান চলাকালে হৃদরোগে আক্রান্ত হন জাকারিয়া। পরে হাসপাতালে নেয়ার পথে মারা যান তিনি। মাদারীপুর জেলা জাতীয় পার্টির (জাপা) সহসভাপতি জহিরুল..."
            ]
          },
          "metadata": {
            "tags": []
          },
          "execution_count": 7
        }
      ]
    },
    {
      "cell_type": "code",
      "metadata": {
        "id": "x_z--0TCxb_V"
      },
      "source": [
        "df.label=df.label.map({1:\"Authentic\",0:\"Fake\"})"
      ],
      "execution_count": null,
      "outputs": []
    },
    {
      "cell_type": "code",
      "metadata": {
        "id": "eJiYZ1jTQpg2"
      },
      "source": [
        "#df = df.sample(frac=1,replace=False)"
      ],
      "execution_count": null,
      "outputs": []
    },
    {
      "cell_type": "code",
      "metadata": {
        "id": "-MkV6EFtRDv2"
      },
      "source": [
        "from sklearn.model_selection import train_test_split\n",
        "\n",
        "train, valid = train_test_split(df, test_size=0.2)"
      ],
      "execution_count": null,
      "outputs": []
    },
    {
      "cell_type": "code",
      "metadata": {
        "colab": {
          "base_uri": "https://localhost:8080/"
        },
        "id": "kJWdk9RAVvlM",
        "outputId": "0d799710-a5e2-4999-d0c4-0c4e676a4419"
      },
      "source": [
        "train['is_valid'] = False\n",
        "valid['is_valid'] = True\n"
      ],
      "execution_count": null,
      "outputs": [
        {
          "output_type": "stream",
          "text": [
            "/usr/local/lib/python3.7/dist-packages/ipykernel_launcher.py:1: SettingWithCopyWarning: \n",
            "A value is trying to be set on a copy of a slice from a DataFrame.\n",
            "Try using .loc[row_indexer,col_indexer] = value instead\n",
            "\n",
            "See the caveats in the documentation: https://pandas.pydata.org/pandas-docs/stable/user_guide/indexing.html#returning-a-view-versus-a-copy\n",
            "  \"\"\"Entry point for launching an IPython kernel.\n",
            "/usr/local/lib/python3.7/dist-packages/ipykernel_launcher.py:2: SettingWithCopyWarning: \n",
            "A value is trying to be set on a copy of a slice from a DataFrame.\n",
            "Try using .loc[row_indexer,col_indexer] = value instead\n",
            "\n",
            "See the caveats in the documentation: https://pandas.pydata.org/pandas-docs/stable/user_guide/indexing.html#returning-a-view-versus-a-copy\n",
            "  \n"
          ],
          "name": "stderr"
        }
      ]
    },
    {
      "cell_type": "code",
      "metadata": {
        "colab": {
          "base_uri": "https://localhost:8080/"
        },
        "id": "L29LR5CtWXb2",
        "outputId": "0d60a1ca-5fed-40d5-ca1b-1c8e3489a8ba"
      },
      "source": [
        "train['label'].value_counts()"
      ],
      "execution_count": null,
      "outputs": [
        {
          "output_type": "execute_result",
          "data": {
            "text/plain": [
              "Fake         1042\n",
              "Authentic     664\n",
              "Name: label, dtype: int64"
            ]
          },
          "metadata": {
            "tags": []
          },
          "execution_count": 12
        }
      ]
    },
    {
      "cell_type": "code",
      "metadata": {
        "colab": {
          "base_uri": "https://localhost:8080/"
        },
        "id": "VIESWxV9WcAf",
        "outputId": "a5a7ac6e-b514-4bf1-f6e1-44cbe3e44aed"
      },
      "source": [
        "valid['label'].value_counts()"
      ],
      "execution_count": null,
      "outputs": [
        {
          "output_type": "execute_result",
          "data": {
            "text/plain": [
              "Fake         257\n",
              "Authentic    170\n",
              "Name: label, dtype: int64"
            ]
          },
          "metadata": {
            "tags": []
          },
          "execution_count": 13
        }
      ]
    },
    {
      "cell_type": "code",
      "metadata": {
        "id": "AkAM9sFnWmt_"
      },
      "source": [
        "final_df = pd.concat([train,valid],axis=0)"
      ],
      "execution_count": null,
      "outputs": []
    },
    {
      "cell_type": "code",
      "metadata": {
        "colab": {
          "base_uri": "https://localhost:8080/",
          "height": 375
        },
        "id": "l6GpQRqMWtzv",
        "outputId": "dac426a6-34ec-45e5-ed2b-0b9d9f715ec6"
      },
      "source": [
        "final_df.head()"
      ],
      "execution_count": null,
      "outputs": [
        {
          "output_type": "execute_result",
          "data": {
            "text/html": [
              "<div>\n",
              "<style scoped>\n",
              "    .dataframe tbody tr th:only-of-type {\n",
              "        vertical-align: middle;\n",
              "    }\n",
              "\n",
              "    .dataframe tbody tr th {\n",
              "        vertical-align: top;\n",
              "    }\n",
              "\n",
              "    .dataframe thead th {\n",
              "        text-align: right;\n",
              "    }\n",
              "</style>\n",
              "<table border=\"1\" class=\"dataframe\">\n",
              "  <thead>\n",
              "    <tr style=\"text-align: right;\">\n",
              "      <th></th>\n",
              "      <th>label</th>\n",
              "      <th>text</th>\n",
              "      <th>is_valid</th>\n",
              "    </tr>\n",
              "  </thead>\n",
              "  <tbody>\n",
              "    <tr>\n",
              "      <th>6</th>\n",
              "      <td>Authentic</td>\n",
              "      <td>হস্তান্তরিত বস্ত্রকলে সরকারের সহায়তার দাবিশ্রমিক-কর্মচারীদের ব্যবস্থাপনায় হস্তান্তরিত বস্ত্রকলগুলো সুষ্ঠু পরিচালনার জন্য সরকারের সহায়তা চেয়েছেন এই মিলগুলোর সমন্বয় পরিষদ। বুধবার শিল্প মন্ত্রণালয়ে শিল্পমন্ত্রী আমির হোসেন আমুর সঙ্গে বৈঠকের সময় এ সহায়তা চান হস্তান্তরিত ৯টি বস্ত্র মিলস সমন্বয় পরিষদের নেতারা। এগুলো সুষ্ঠু পরিচালনার স্বার্থে ২০১৪ সালের অক্টোবরে বস্ত্র ও পাট মন্ত্রণালয় পরিদর্শনকালে প্রধানমন্ত্রীর দেয়া নির্দেশনা দ্রুত বাস্তবায়নের দাবি জানিয়েছেন তারা। বৈঠকে হস্তান্তরিত বস্ত্রকলগুলোর বর্তমান সমস্যা এবং এর সমাধানের উপায় নিয়ে আলোচনা হয়। এ সময় পরিষদের নেতারা বলেন, উন্নত ব্যবস্থাপনার জন্...</td>\n",
              "      <td>False</td>\n",
              "    </tr>\n",
              "    <tr>\n",
              "      <th>1296</th>\n",
              "      <td>Fake</td>\n",
              "      <td>রবীন্দ্রনাথ ও নজরুল দুজনই বিএনপির পক্ষে : কৌতুক যেভাবে সত্যি হলোসাহিত্যিকদের লেখা নানান লাইন নিয়ে রসিকতা, কৌতুক তো হয়ে আসছে সেই কবে থেকেই। বিশেষ করে রবীন্দ্রনাথ ও নজরুলের লেখা বিভিন্ন ক্লাসিক লাইন নিয়ে হয়েছে অনেক eআরকি। সেসব তো আর সিরিয়াসলি নেয়ার কিছু নেই। তবে বিএনপির রুহুল কবির রিজভী সম্ভবত এই রসিকতা একটি সিরিয়াসলিই নিয়ে নিয়েছেন। সাংবাদিকদের উদ্দেশে তিনি বলেন, 'রবীন্দ্রনাথ ও নজরুল দুজনই ছিলেন বিএনপির পক্ষে। কারণ রবীন্দ্রনাথ লিখেছিলেন \"নৌকাডুবি\", আর নজরুল লিখেছেন, \"আমরা শক্তি আমরা বল আমরা ছাত্রদল!\"উল্লেখ্য, রবীন্দ্রনাথ এবং নজরুলের এই দুই সাহিত্যকর্ম নিয়ে ঠিক একই রসিকতা eআরকি ডটকমে প্রকাশিত...</td>\n",
              "      <td>False</td>\n",
              "    </tr>\n",
              "    <tr>\n",
              "      <th>1856</th>\n",
              "      <td>Fake</td>\n",
              "      <td>উঠতি বয়সী শিক্ষার্থীরা রাত ৮টার পরে বাইরে থাকলে আটক করা হবে!গতকাল রাজবাড়ীতে এক সচেতনতামূলক অনুষ্ঠানে রাজবাড়ীর পুলিশ সুপার (এসপি) উঠতি বয়সী কোনো শিক্ষার্থী রাত আটটার পর বাসার বাইরে থাকলে তাকে আটক করে থানায় নিয়ে যাওয়ার নির্দেশ দিয়েছেন। চলমান সামাজিক অবক্ষয় রোধের পরিপ্রেক্ষিতে তিনি এ নির্দেশ দেন।দেশে যুবক সমাজের মধ্যে মাদকদ্রব্য সেবন করার প্রবণতা অনেক বৃদ্ধি পেয়েছে। যার ফলে দেশ ও জাতি আজ হুমকীর মুখে। এ প্রবণতা নির্মুল করার জন্য দেশের বিভিন্ন যায়গায় সভার আয়োজন করা হচ্ছে।গতকাল দুপুরে রাজবাড়ী শহরের ডা. আবুল হোসেন কলেজ কর্তৃপক্ষ শিক্ষক-শিক্ষার্থী ও অভিভাবকদের নিয়ে এক সচেতনতামূলক অনুষ্ঠানের আয়োজন...</td>\n",
              "      <td>False</td>\n",
              "    </tr>\n",
              "    <tr>\n",
              "      <th>1061</th>\n",
              "      <td>Fake</td>\n",
              "      <td>গবেষণায় দাবি- বউ হিসাবে খাটো মেয়েরা ভালোবিয়ে মানুষের জীবনে বিয়ে সব’চে গুরুত্বপূর্ণ বিষয়। বেশিরভাগ মানুষ বিয়ের জন্য লম্বা মেয়ে খুজে থাকে। ভালো সঙ্গি হিসাবে মেয়েটির উচ্চতাকেই প্রাধান্য দিয়ে থাকে। তবে সম্প্রতি এক জরিপে প্রকাশ হয়েছে। বউ হিসাবে খাটো মেয়েরা ভালো। বউ যদি স্বামীর চেয়ে খাটো হয়, তাইলে সে বউ বেশি স্বামী ভক্ত হয়ে থাকে।এ ছাড়া বউ যদি খাটো হয়, তাইলে নানারকম সুবিধা পাওয়া যায়-বউ খাটো হলে কী কী সুবিধা পাবেন তা জানিয়েছে জীবনধারা বিষয়ক ওয়েবসাইট বোল্ডস্কাই।১. জড়িয়ে ধরার ‘অসাধারণ’ অনুভূতিঃ-ভালবাসার মানুষকে জড়িয়ে ধরে সুখ কে না পেতে চাই? সেক্ষেত্রে বউ যদি খাটো হয়, তাইলে তাকে বুকের মাঝে জড়িয়ে ধরা ...</td>\n",
              "      <td>False</td>\n",
              "    </tr>\n",
              "    <tr>\n",
              "      <th>700</th>\n",
              "      <td>Authentic</td>\n",
              "      <td>রাজশাহীতে যুবককে পিটিয়ে হত্যার অভিযোগরাজশাহী: রাজশাহীর রামচন্দ্রপুরে (মিরেরচক) চাচাতো ভাইদের মারধরে লিটন নামের এক যুবক নিহত হয়েছেন বলে অভিযোগ উঠেছে। এ ঘটনায় পুলিশ তিনজনকে আটক করেছে।   বুধবার (১৯ সেপ্টেম্বর) রাত ১টার দিকে রাজশাহী মেডিকেল কলেজ (রামেক) হাসপাতালে চিকিৎসাধীন অবস্থায় তার মৃত্যু হয়। মঙ্গলবার (১৮ সেপ্টেম্বর) সন্ধ্যায় মারধরের ঘটনা ঘটে।   নিহত লিটনের বড় ভাই আলাউদ্দীন জানান, বাড়ির রাস্তায় চাচাতো ভাইয়েরা ময়লা-আবর্জনা ফেলতো। মঙ্গলবার সন্ধ্যায় বাড়ি যাওয়ার সময় রাস্তায় ময়লা ফেলতে নিষেধ করেন লিটন। এ সময় তার চাচাতো ভাই মঞ্জুর ও মাহমুদের সঙ্গে বাকবিতণ্ডা হয়। কথা কাটাকাটির একপর্যায়ে তারা লিটন...</td>\n",
              "      <td>False</td>\n",
              "    </tr>\n",
              "  </tbody>\n",
              "</table>\n",
              "</div>"
            ],
            "text/plain": [
              "          label  ... is_valid\n",
              "6     Authentic  ...    False\n",
              "1296       Fake  ...    False\n",
              "1856       Fake  ...    False\n",
              "1061       Fake  ...    False\n",
              "700   Authentic  ...    False\n",
              "\n",
              "[5 rows x 3 columns]"
            ]
          },
          "metadata": {
            "tags": []
          },
          "execution_count": 15
        }
      ]
    },
    {
      "cell_type": "markdown",
      "metadata": {
        "id": "EgqlKodP3H6R"
      },
      "source": [
        "# Model"
      ]
    },
    {
      "cell_type": "code",
      "metadata": {
        "colab": {
          "base_uri": "https://localhost:8080/",
          "height": 597
        },
        "id": "jrS4I5-P3Uu0",
        "outputId": "05fdf434-9794-4fc9-eb9e-587030936718"
      },
      "source": [
        "wandb.init(**wandb_init_kwargs)"
      ],
      "execution_count": null,
      "outputs": [
        {
          "output_type": "stream",
          "text": [
            "\u001b[34m\u001b[1mwandb\u001b[0m: Currently logged in as: \u001b[33mtasmiah-tahsin\u001b[0m (use `wandb login --relogin` to force relogin)\n"
          ],
          "name": "stderr"
        },
        {
          "output_type": "display_data",
          "data": {
            "text/html": [
              "\n",
              "                Tracking run with wandb version 0.11.2<br/>\n",
              "                Syncing run <strong style=\"color:#cdcd00\">rich-cosmos-6</strong> to <a href=\"https://wandb.ai\" target=\"_blank\">Weights & Biases</a> <a href=\"https://docs.wandb.com/integrations/jupyter.html\" target=\"_blank\">(Documentation)</a>.<br/>\n",
              "                Project page: <a href=\"https://wandb.ai/tasmiah-tahsin/fake-news-blurr\" target=\"_blank\">https://wandb.ai/tasmiah-tahsin/fake-news-blurr</a><br/>\n",
              "                Run page: <a href=\"https://wandb.ai/tasmiah-tahsin/fake-news-blurr/runs/2s1148d2\" target=\"_blank\">https://wandb.ai/tasmiah-tahsin/fake-news-blurr/runs/2s1148d2</a><br/>\n",
              "                Run data is saved locally in <code>/content/wandb/run-20210804_155220-2s1148d2</code><br/><br/>\n",
              "            "
            ],
            "text/plain": [
              "<IPython.core.display.HTML object>"
            ]
          },
          "metadata": {
            "tags": []
          }
        },
        {
          "output_type": "execute_result",
          "data": {
            "text/plain": [
              "<wandb.sdk.wandb_run.Run at 0x7fece90c6910>"
            ],
            "text/html": [
              "<h1>Run(2s1148d2)</h1><iframe src=\"https://wandb.ai/tasmiah-tahsin/fake-news-blurr/runs/2s1148d2\" style=\"border:none;width:100%;height:400px\"></iframe>"
            ]
          },
          "metadata": {
            "tags": []
          },
          "execution_count": 26
        }
      ]
    },
    {
      "cell_type": "code",
      "metadata": {
        "id": "NwdmFc-x6uRr"
      },
      "source": [
        ""
      ],
      "execution_count": null,
      "outputs": []
    },
    {
      "cell_type": "markdown",
      "metadata": {
        "id": "OYRQPZlc36La"
      },
      "source": [
        "# Explaining predictions"
      ]
    },
    {
      "cell_type": "code",
      "metadata": {
        "id": "zE7XlXNl38at"
      },
      "source": [
        ""
      ],
      "execution_count": null,
      "outputs": []
    },
    {
      "cell_type": "markdown",
      "metadata": {
        "id": "1lUBMAXu3sL_"
      },
      "source": [
        "# Model Sharing"
      ]
    },
    {
      "cell_type": "code",
      "metadata": {
        "id": "8MOQ08bE3tSf"
      },
      "source": [
        ""
      ],
      "execution_count": null,
      "outputs": []
    }
  ]
}